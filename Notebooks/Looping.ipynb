{
 "cells": [
  {
   "cell_type": "markdown",
   "id": "8d5044bd",
   "metadata": {},
   "source": [
    "# Looping in GRAPH"
   ]
  },
  {
   "cell_type": "code",
   "execution_count": null,
   "id": "ee3e4903",
   "metadata": {},
   "outputs": [],
   "source": [
    "from typing import TypedDict, List\n",
    "\n",
    "\n",
    "class GraphState(TypedDict):\n",
    "    name: str\n",
    "    numbers: List[int]\n",
    "    counter: int"
   ]
  },
  {
   "cell_type": "code",
   "execution_count": null,
   "id": "7ce5ac6a",
   "metadata": {},
   "outputs": [],
   "source": [
    "import random\n",
    "\n",
    "LOOP_CONDITION: str = \"LOOP\"\n",
    "EXIT_CONDITION: str = \"EXIT\"\n",
    "\n",
    "\n",
    "def greeting_node(state: GraphState) -> GraphState:\n",
    "    \"\"\"Simple greeting node, that greet the user\"\"\"\n",
    "\n",
    "    state[\"name\"] = f\"Hey their, {state['name']}!\"\n",
    "    state[\"counter\"] = 0\n",
    "    return state\n",
    "\n",
    "\n",
    "def random_node(state: GraphState) -> GraphState:\n",
    "    \"\"\"Generate random number into the graph state\"\"\"\n",
    "\n",
    "    state[\"numbers\"].append(random.randint(1, 10))\n",
    "    state[\"counter\"] += 1\n",
    "    return state\n",
    "\n",
    "\n",
    "def should_continue(state: GraphState):\n",
    "    \"\"\"Check should this loops continue or exists\"\"\"\n",
    "\n",
    "    if state[\"counter\"] >= 5:\n",
    "        return EXIT_CONDITION\n",
    "    else:\n",
    "        print(f\"Looping in => {state['counter']}\")\n",
    "        return LOOP_CONDITION"
   ]
  },
  {
   "cell_type": "code",
   "execution_count": null,
   "id": "4ae0e290",
   "metadata": {},
   "outputs": [],
   "source": [
    "from langgraph.graph import StateGraph, START, END\n",
    "\n",
    "GREETING: str = \"GREETING\"\n",
    "RANDOM: str = \"RANDOM\"\n",
    "\n",
    "state_graph = StateGraph(GraphState)\n",
    "state_graph.add_node(GREETING, greeting_node)\n",
    "state_graph.add_node(RANDOM, random_node)\n",
    "\n",
    "state_graph.add_edge(START, GREETING)\n",
    "state_graph.add_edge(GREETING, RANDOM)\n",
    "state_graph.add_conditional_edges(\n",
    "    RANDOM, should_continue, {LOOP_CONDITION: RANDOM, EXIT_CONDITION: END}\n",
    ")\n",
    "\n",
    "graph = state_graph.compile()\n",
    "graph"
   ]
  },
  {
   "cell_type": "code",
   "execution_count": null,
   "id": "ffd8c13e",
   "metadata": {},
   "outputs": [],
   "source": [
    "graph.invoke({\"name\": \"SpiderMan\", \"numbers\": [], \"counter\": -1})"
   ]
  },
  {
   "cell_type": "code",
   "execution_count": null,
   "id": "bd126954",
   "metadata": {},
   "outputs": [],
   "source": []
  }
 ],
 "metadata": {
  "kernelspec": {
   "display_name": "langgraphcourse",
   "language": "python",
   "name": "python3"
  },
  "language_info": {
   "codemirror_mode": {
    "name": "ipython",
    "version": 3
   },
   "file_extension": ".py",
   "mimetype": "text/x-python",
   "name": "python",
   "nbconvert_exporter": "python",
   "pygments_lexer": "ipython3",
   "version": "3.12.3"
  }
 },
 "nbformat": 4,
 "nbformat_minor": 5
}
