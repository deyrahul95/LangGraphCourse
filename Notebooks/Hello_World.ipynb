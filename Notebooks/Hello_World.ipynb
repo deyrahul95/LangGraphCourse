{
 "cells": [
  {
   "cell_type": "markdown",
   "id": "00937b5a",
   "metadata": {},
   "source": [
    "# Hello World Agent"
   ]
  },
  {
   "cell_type": "markdown",
   "id": "f9297b02",
   "metadata": {},
   "source": [
    "Let's create our first LangGraph Graph"
   ]
  },
  {
   "cell_type": "code",
   "execution_count": null,
   "id": "aa7ba4c7",
   "metadata": {},
   "outputs": [],
   "source": [
    "from typing import TypedDict\n",
    "from langgraph.graph import StateGraph"
   ]
  },
  {
   "cell_type": "code",
   "execution_count": null,
   "id": "61e80cb9",
   "metadata": {},
   "outputs": [],
   "source": [
    "class AgentState(TypedDict):\n",
    "    message: str\n",
    "\n",
    "\n",
    "# Create an simple node that updates the state\n",
    "def greeting_node(state: AgentState) -> AgentState:\n",
    "    \"\"\"Simple node that adds a greeting message to the state\"\"\"\n",
    "\n",
    "    state[\"message\"] = f\"Hey {state['message']}, How are you doing?\"\n",
    "    return state"
   ]
  },
  {
   "cell_type": "code",
   "execution_count": null,
   "id": "d929375f",
   "metadata": {},
   "outputs": [],
   "source": [
    "# Create an state graph\n",
    "stateGraph = StateGraph(AgentState)\n",
    "\n",
    "# Add greeter node into this state graph\n",
    "GREETER: str = \"greeter\"\n",
    "stateGraph.add_node(GREETER, greeting_node)\n",
    "\n",
    "stateGraph.set_entry_point(GREETER)\n",
    "stateGraph.set_finish_point(GREETER)\n",
    "\n",
    "# Compile this state graph\n",
    "graph = stateGraph.compile()\n",
    "graph"
   ]
  },
  {
   "cell_type": "code",
   "execution_count": null,
   "id": "3a130854",
   "metadata": {},
   "outputs": [],
   "source": [
    "# invoke this graph\n",
    "result = graph.invoke({\"message\": \"SpiderMan\"})\n",
    "result[\"message\"]"
   ]
  },
  {
   "cell_type": "code",
   "execution_count": null,
   "id": "e679b1ef",
   "metadata": {},
   "outputs": [],
   "source": [
    "from typing import TypedDict\n",
    "from langgraph.graph import StateGraph\n",
    "\n",
    "\n",
    "class AgentState(TypedDict):\n",
    "    message: str\n",
    "\n",
    "\n",
    "def complement_node(state: AgentState) -> AgentState:\n",
    "    \"\"\"Simple personalized complement node, that add an personalized complement message into the graph state\"\"\"\n",
    "\n",
    "    state[\"message\"] = (\n",
    "        f\"Hey {state['message']}, You are absolutely doing fantastic job! Please keep it up your good works!\"\n",
    "    )\n",
    "    return state"
   ]
  },
  {
   "cell_type": "code",
   "execution_count": null,
   "id": "368e9f73",
   "metadata": {},
   "outputs": [],
   "source": [
    "stateGraph = StateGraph(AgentState)\n",
    "\n",
    "COMPLEMENT: str = \"complementer\"\n",
    "stateGraph.add_node(COMPLEMENT, complement_node)\n",
    "\n",
    "stateGraph.set_entry_point(COMPLEMENT)\n",
    "stateGraph.set_finish_point(COMPLEMENT)\n",
    "\n",
    "graph = stateGraph.compile()\n",
    "graph"
   ]
  },
  {
   "cell_type": "code",
   "execution_count": null,
   "id": "cf7ff714",
   "metadata": {},
   "outputs": [],
   "source": [
    "result = graph.invoke({\"message\": \"SpiderMan\"})\n",
    "result[\"message\"]"
   ]
  },
  {
   "cell_type": "code",
   "execution_count": null,
   "id": "3e39c5b3",
   "metadata": {},
   "outputs": [],
   "source": []
  }
 ],
 "metadata": {
  "kernelspec": {
   "display_name": "langgraphcourse",
   "language": "python",
   "name": "python3"
  },
  "language_info": {
   "codemirror_mode": {
    "name": "ipython",
    "version": 3
   },
   "file_extension": ".py",
   "mimetype": "text/x-python",
   "name": "python",
   "nbconvert_exporter": "python",
   "pygments_lexer": "ipython3",
   "version": "3.12.3"
  }
 },
 "nbformat": 4,
 "nbformat_minor": 5
}
