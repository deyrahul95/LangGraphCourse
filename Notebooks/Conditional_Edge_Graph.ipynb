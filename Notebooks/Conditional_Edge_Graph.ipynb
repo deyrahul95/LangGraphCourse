{
 "cells": [
  {
   "cell_type": "code",
   "execution_count": null,
   "id": "864cb13e",
   "metadata": {},
   "outputs": [],
   "source": [
    "from typing import TypedDict\n",
    "\n",
    "\n",
    "class GraphState(TypedDict):\n",
    "    number_1: int\n",
    "    number_2: int\n",
    "    operation: str\n",
    "    output: int\n",
    "\n",
    "\n",
    "# Edge names\n",
    "ADDER_EDGE: str = \"ADDER_EDGE\"\n",
    "SUBTRACTER_EDGE: str = \"SUBTRACTER_EDGE\""
   ]
  },
  {
   "cell_type": "code",
   "execution_count": null,
   "id": "e4d2edc5",
   "metadata": {},
   "outputs": [],
   "source": [
    "def adder_node(state: GraphState) -> GraphState:\n",
    "    \"\"\"Simple node that add two number and update the output into state\"\"\"\n",
    "\n",
    "    state[\"output\"] = state[\"number_1\"] + state[\"number_2\"]\n",
    "    return state\n",
    "\n",
    "\n",
    "def subtracter_node(state: GraphState) -> GraphState:\n",
    "    \"\"\"Simple node that subtract 2nd number from 1st number and update the output into state\"\"\"\n",
    "\n",
    "    state[\"output\"] = state[\"number_1\"] - state[\"number_2\"]\n",
    "    return state\n",
    "\n",
    "\n",
    "def decide_next_node(state: GraphState):\n",
    "    \"\"\"This simple node will be selected next node of the graph\"\"\"\n",
    "\n",
    "    match state[\"operation\"]:\n",
    "        case \"+\":\n",
    "            return ADDER_EDGE\n",
    "        case \"-\":\n",
    "            return SUBTRACTER_EDGE\n",
    "        case _:\n",
    "            return None"
   ]
  },
  {
   "cell_type": "code",
   "execution_count": null,
   "id": "a33cd1eb",
   "metadata": {},
   "outputs": [],
   "source": [
    "from langgraph.graph import StateGraph, START, END\n",
    "\n",
    "ROUTER_NODE: str = \"ROUTER\"\n",
    "ADDER_NODE: str = \"ADDER\"\n",
    "SUBTRACTER_NODE: str = \"SUBTRACTER\"\n",
    "\n",
    "state_graph = StateGraph(GraphState)\n",
    "state_graph.add_node(ROUTER_NODE, lambda state: state)  # passthrough function\n",
    "state_graph.add_node(ADDER_NODE, adder_node)\n",
    "state_graph.add_node(SUBTRACTER_NODE, subtracter_node)\n",
    "\n",
    "state_graph.add_edge(START, ROUTER_NODE)\n",
    "state_graph.add_conditional_edges(\n",
    "    ROUTER_NODE,\n",
    "    decide_next_node,\n",
    "    {ADDER_EDGE: ADDER_NODE, SUBTRACTER_EDGE: SUBTRACTER_NODE},\n",
    ")\n",
    "state_graph.add_edge(ADDER_NODE, END)\n",
    "state_graph.add_edge(SUBTRACTER_NODE, END)\n",
    "\n",
    "graph = state_graph.compile()\n",
    "graph"
   ]
  },
  {
   "cell_type": "code",
   "execution_count": null,
   "id": "0ae0e88e",
   "metadata": {},
   "outputs": [],
   "source": [
    "initial_state = GraphState(number_1=10, number_2=20, operation=\"+\", output=0)\n",
    "print(graph.invoke(initial_state))"
   ]
  },
  {
   "cell_type": "code",
   "execution_count": null,
   "id": "17bdcff4",
   "metadata": {},
   "outputs": [],
   "source": [
    "initial_state = GraphState(number_1=30, number_2=20, operation=\"-\", output=0)\n",
    "print(graph.invoke(initial_state))\n"
   ]
  },
  {
   "cell_type": "code",
   "execution_count": null,
   "id": "e17f08eb",
   "metadata": {},
   "outputs": [],
   "source": []
  }
 ],
 "metadata": {
  "kernelspec": {
   "display_name": "langgraphcourse",
   "language": "python",
   "name": "python3"
  },
  "language_info": {
   "codemirror_mode": {
    "name": "ipython",
    "version": 3
   },
   "file_extension": ".py",
   "mimetype": "text/x-python",
   "name": "python",
   "nbconvert_exporter": "python",
   "pygments_lexer": "ipython3",
   "version": "3.12.3"
  }
 },
 "nbformat": 4,
 "nbformat_minor": 5
}
