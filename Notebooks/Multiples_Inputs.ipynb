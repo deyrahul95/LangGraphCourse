{
 "cells": [
  {
   "cell_type": "markdown",
   "id": "b50590c2",
   "metadata": {},
   "source": [
    "# Multiple Inputs"
   ]
  },
  {
   "cell_type": "code",
   "execution_count": null,
   "id": "1e706f20",
   "metadata": {},
   "outputs": [],
   "source": [
    "from typing import TypedDict, List\n",
    "\n",
    "\n",
    "class GraphState(TypedDict):\n",
    "    values: List[int]\n",
    "    name: str\n",
    "    result: str\n",
    "\n",
    "\n",
    "def process_values(state: GraphState) -> GraphState:\n",
    "    \"\"\"Simple node thats do some processing on state values and return the updated state\"\"\"\n",
    "\n",
    "    print(f\"Initial State => {state}\")\n",
    "    state[\"result\"] = f\"Hey {state['name']}, your's result is {sum(state['values'])}\"\n",
    "    print(f\"Final State => {state}\")\n",
    "\n",
    "    return state"
   ]
  },
  {
   "cell_type": "code",
   "execution_count": null,
   "id": "3b7ed9a3",
   "metadata": {},
   "outputs": [],
   "source": [
    "from langgraph.graph import StateGraph, START, END\n",
    "\n",
    "stateGraph = StateGraph(GraphState)\n",
    "\n",
    "PROCESSOR: str = \"processor\"\n",
    "stateGraph.add_node(PROCESSOR, process_values)\n",
    "\n",
    "stateGraph.add_edge(START, PROCESSOR)\n",
    "stateGraph.add_edge(PROCESSOR, END)\n",
    "\n",
    "graph = stateGraph.compile()\n",
    "graph"
   ]
  },
  {
   "cell_type": "code",
   "execution_count": null,
   "id": "24fc2dfb",
   "metadata": {},
   "outputs": [],
   "source": [
    "response = graph.invoke({\"values\": [1, 2, 3, 4], \"name\": \"SpiderMan\", \"result\": \"\"})\n",
    "print(response)\n",
    "print(response[\"result\"])"
   ]
  },
  {
   "cell_type": "code",
   "execution_count": null,
   "id": "67b6f8ac",
   "metadata": {},
   "outputs": [],
   "source": [
    "from typing import TypedDict, List\n",
    "import math\n",
    "\n",
    "\n",
    "class GraphState(TypedDict):\n",
    "    name: str\n",
    "    values: List[int]\n",
    "    operation: str\n",
    "    result: str\n",
    "\n",
    "\n",
    "def calculator_node(state: GraphState) -> GraphState:\n",
    "    \"\"\"Simple calculator node, for doing simple calculation on a list of integer inputs and\n",
    "    update the result into state and return it\"\"\"\n",
    "\n",
    "    print(f\"Initial State => {state}\")\n",
    "    output = 0\n",
    "    operator = state[\"operation\"].strip()[0]\n",
    "\n",
    "    match operator:\n",
    "        case \"+\":\n",
    "            output = sum(state[\"values\"])\n",
    "        case \"*\" | \"x\":\n",
    "            output = math.prod(state[\"values\"])\n",
    "        case _:\n",
    "            output = None\n",
    "\n",
    "    if output is not None:\n",
    "        state[\"result\"] = (\n",
    "            f\"Hey {state['name']}, Your result is {output} for operation {state['operation']}.\"\n",
    "        )\n",
    "    else:\n",
    "        state[\"result\"] = (\n",
    "            f\"Hey {state['name']}, Oops! this operation {state['operation']} is still not supported. Please try other operation.\"\n",
    "        )\n",
    "\n",
    "    print(f\"Final State => {state}\")\n",
    "    return state"
   ]
  },
  {
   "cell_type": "code",
   "execution_count": null,
   "id": "1bdccff4",
   "metadata": {},
   "outputs": [],
   "source": [
    "from langgraph.graph import StateGraph, START, END\n",
    "\n",
    "stateGraph = StateGraph(GraphState)\n",
    "CALCULATOR: str = \"CALCULATOR\"\n",
    "\n",
    "stateGraph.add_node(CALCULATOR, calculator_node)\n",
    "stateGraph.add_edge(START, CALCULATOR)\n",
    "stateGraph.add_edge(CALCULATOR, END)\n",
    "\n",
    "graph = stateGraph.compile()\n",
    "graph"
   ]
  },
  {
   "cell_type": "code",
   "execution_count": null,
   "id": "f0c3b174",
   "metadata": {},
   "outputs": [],
   "source": [
    "response = graph.invoke(\n",
    "    {\"name\": \"SpiderMan\", \"values\": [1, 2, 3, 4, 5], \"operation\": \"+\", \"result\": \"\"}\n",
    ")\n",
    "print(response)\n",
    "print(response[\"result\"])"
   ]
  },
  {
   "cell_type": "code",
   "execution_count": null,
   "id": "437517ef",
   "metadata": {},
   "outputs": [],
   "source": [
    "response = graph.invoke(\n",
    "    {\"name\": \"SpiderMan\", \"values\": [1, 2, 3, 4, 5], \"operation\": \"x\", \"result\": \"\"}\n",
    ")\n",
    "print(response)\n",
    "print(response[\"result\"])\n"
   ]
  },
  {
   "cell_type": "code",
   "execution_count": null,
   "id": "0b931e90",
   "metadata": {},
   "outputs": [],
   "source": [
    "response = graph.invoke(\n",
    "    {\"name\": \"SpiderMan\", \"values\": [1, 2, 3, 4, 5], \"operation\": \"/\", \"result\": \"\"}\n",
    ")\n",
    "print(response)\n",
    "print(response[\"result\"])\n"
   ]
  },
  {
   "cell_type": "code",
   "execution_count": null,
   "id": "6e658c3e",
   "metadata": {},
   "outputs": [],
   "source": []
  }
 ],
 "metadata": {
  "kernelspec": {
   "display_name": "langgraphcourse",
   "language": "python",
   "name": "python3"
  },
  "language_info": {
   "codemirror_mode": {
    "name": "ipython",
    "version": 3
   },
   "file_extension": ".py",
   "mimetype": "text/x-python",
   "name": "python",
   "nbconvert_exporter": "python",
   "pygments_lexer": "ipython3",
   "version": "3.12.3"
  }
 },
 "nbformat": 4,
 "nbformat_minor": 5
}
