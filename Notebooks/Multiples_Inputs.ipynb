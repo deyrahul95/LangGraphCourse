{
 "cells": [
  {
   "cell_type": "markdown",
   "id": "b50590c2",
   "metadata": {},
   "source": [
    "# Multiple Inputs"
   ]
  },
  {
   "cell_type": "code",
   "execution_count": null,
   "id": "1e706f20",
   "metadata": {},
   "outputs": [],
   "source": [
    "from typing import TypedDict, List\n",
    "\n",
    "\n",
    "class GraphState(TypedDict):\n",
    "    values: List[int]\n",
    "    name: str\n",
    "    result: str\n",
    "\n",
    "\n",
    "def process_values(state: GraphState) -> GraphState:\n",
    "    \"\"\"Simple node thats do some processing on state values and return the updated state\"\"\"\n",
    "\n",
    "    print(f\"Initial State => {state}\")\n",
    "    state[\"result\"] = f\"Hey {state['name']}, your's result is {sum(state['values'])}\"\n",
    "    print(f\"Final State => {state}\")\n",
    "\n",
    "    return state"
   ]
  },
  {
   "cell_type": "code",
   "execution_count": null,
   "id": "3b7ed9a3",
   "metadata": {},
   "outputs": [],
   "source": [
    "from langgraph.graph import StateGraph, START, END\n",
    "\n",
    "stateGraph = StateGraph(GraphState)\n",
    "\n",
    "PROCESSOR: str = \"processor\"\n",
    "stateGraph.add_node(PROCESSOR, process_values)\n",
    "\n",
    "stateGraph.add_edge(START, PROCESSOR)\n",
    "stateGraph.add_edge(PROCESSOR, END)\n",
    "\n",
    "graph = stateGraph.compile()\n",
    "graph"
   ]
  },
  {
   "cell_type": "code",
   "execution_count": null,
   "id": "24fc2dfb",
   "metadata": {},
   "outputs": [],
   "source": [
    "response = graph.invoke({\"values\": [1, 2, 3, 4], \"name\": \"SpiderMan\", \"result\": \"\"})\n",
    "print(response)\n",
    "print(response[\"result\"])"
   ]
  },
  {
   "cell_type": "code",
   "execution_count": null,
   "id": "67b6f8ac",
   "metadata": {},
   "outputs": [],
   "source": []
  }
 ],
 "metadata": {
  "kernelspec": {
   "display_name": "langgraphcourse",
   "language": "python",
   "name": "python3"
  },
  "language_info": {
   "codemirror_mode": {
    "name": "ipython",
    "version": 3
   },
   "file_extension": ".py",
   "mimetype": "text/x-python",
   "name": "python",
   "nbconvert_exporter": "python",
   "pygments_lexer": "ipython3",
   "version": "3.12.3"
  }
 },
 "nbformat": 4,
 "nbformat_minor": 5
}
